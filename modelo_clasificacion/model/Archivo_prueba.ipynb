{
 "cells": [
  {
   "cell_type": "code",
   "execution_count": 9,
   "metadata": {},
   "outputs": [
    {
     "name": "stdout",
     "output_type": "stream",
     "text": [
      "c:\\Users\\csake\\OneDrive\\Documentos\\Maestria Clases\\S3 C2 Despliegue de Soluciones Analíticas\\Proyecto\\modelo_clasificacion\\model\\processing\n",
      "['c:\\\\Users\\\\csake\\\\OneDrive\\\\Documentos\\\\Maestria Clases\\\\S3 C2 Despliegue de Soluciones Analíticas\\\\Proyecto\\\\modelo_clasificacion\\\\model\\\\processing', 'c:\\\\Users\\\\csake\\\\anaconda3\\\\python310.zip', 'c:\\\\Users\\\\csake\\\\anaconda3\\\\DLLs', 'c:\\\\Users\\\\csake\\\\anaconda3\\\\lib', 'c:\\\\Users\\\\csake\\\\anaconda3', '', 'c:\\\\Users\\\\csake\\\\anaconda3\\\\lib\\\\site-packages', 'c:\\\\Users\\\\csake\\\\anaconda3\\\\lib\\\\site-packages\\\\win32', 'c:\\\\Users\\\\csake\\\\anaconda3\\\\lib\\\\site-packages\\\\win32\\\\lib', 'c:\\\\Users\\\\csake\\\\anaconda3\\\\lib\\\\site-packages\\\\Pythonwin']\n"
     ]
    }
   ],
   "source": [
    "import os\n",
    "print(os.getcwd())\n",
    "\n",
    "import sys\n",
    "print(sys.path)"
   ]
  },
  {
   "cell_type": "code",
   "execution_count": 28,
   "metadata": {},
   "outputs": [
    {
     "name": "stdout",
     "output_type": "stream",
     "text": [
      "   col1  col2  col3  col4\n",
      "0     1     1     0     1\n",
      "1     0     0     1     1\n",
      "2     1     0     1     1\n",
      "3     1     1     1     1\n",
      "Index(['col2', 'col3', 'col4'], dtype='object')\n"
     ]
    }
   ],
   "source": [
    "import pandas as pd\n",
    "import numpy as np \n",
    "data = pd.DataFrame({'col1':[1,0,1,0],\n",
    "              'col2':[1,0,0,1],\n",
    "              'col3':[0,1,1,1],\n",
    "              'col4':[1,1,1,1]})\n",
    "\n",
    "print(data)\n",
    "def rellenar_columnas(data,col):\n",
    "    print(data.columns[np.where(data.columns != col)])\n",
    "    col_assert='col3'\n",
    "    data[col] = data.apply(lambda x: x[col] if x[col_assert]==0 else 0 ,axis=1) \n",
    "\n",
    "rellenar_columnas(data,'col1')"
   ]
  },
  {
   "cell_type": "code",
   "execution_count": 41,
   "metadata": {},
   "outputs": [
    {
     "data": {
      "text/html": [
       "<div>\n",
       "<style scoped>\n",
       "    .dataframe tbody tr th:only-of-type {\n",
       "        vertical-align: middle;\n",
       "    }\n",
       "\n",
       "    .dataframe tbody tr th {\n",
       "        vertical-align: top;\n",
       "    }\n",
       "\n",
       "    .dataframe thead th {\n",
       "        text-align: right;\n",
       "    }\n",
       "</style>\n",
       "<table border=\"1\" class=\"dataframe\">\n",
       "  <thead>\n",
       "    <tr style=\"text-align: right;\">\n",
       "      <th></th>\n",
       "      <th>col1</th>\n",
       "      <th>col2</th>\n",
       "      <th>dasdsads</th>\n",
       "    </tr>\n",
       "  </thead>\n",
       "  <tbody>\n",
       "    <tr>\n",
       "      <th>0</th>\n",
       "      <td>0</td>\n",
       "      <td>1</td>\n",
       "      <td>0</td>\n",
       "    </tr>\n",
       "    <tr>\n",
       "      <th>1</th>\n",
       "      <td>0</td>\n",
       "      <td>0</td>\n",
       "      <td>1</td>\n",
       "    </tr>\n",
       "    <tr>\n",
       "      <th>2</th>\n",
       "      <td>1</td>\n",
       "      <td>0</td>\n",
       "      <td>0</td>\n",
       "    </tr>\n",
       "    <tr>\n",
       "      <th>3</th>\n",
       "      <td>1</td>\n",
       "      <td>0</td>\n",
       "      <td>0</td>\n",
       "    </tr>\n",
       "  </tbody>\n",
       "</table>\n",
       "</div>"
      ],
      "text/plain": [
       "   col1  col2  dasdsads\n",
       "0     0     1         0\n",
       "1     0     0         1\n",
       "2     1     0         0\n",
       "3     1     0         0"
      ]
     },
     "execution_count": 41,
     "metadata": {},
     "output_type": "execute_result"
    }
   ],
   "source": [
    "data = pd.DataFrame({'col1':[0,0,1,1],\n",
    "              'col2':[1,0,0,1],\n",
    "              'dasdsads':[1,1,1,1]})\n",
    "\n",
    "def keep_first_one(row):\n",
    "    found_first_one = False\n",
    "    for i, value in enumerate(row):\n",
    "        if value == 1 and not found_first_one:\n",
    "            found_first_one = True\n",
    "        else:\n",
    "            row.iat[i] = 0\n",
    "    return row\n",
    "\n",
    "\n",
    "data = data.apply(keep_first_one, axis=1)\n",
    "data"
   ]
  }
 ],
 "metadata": {
  "kernelspec": {
   "display_name": "base",
   "language": "python",
   "name": "python3"
  },
  "language_info": {
   "codemirror_mode": {
    "name": "ipython",
    "version": 3
   },
   "file_extension": ".py",
   "mimetype": "text/x-python",
   "name": "python",
   "nbconvert_exporter": "python",
   "pygments_lexer": "ipython3",
   "version": "3.10.9"
  }
 },
 "nbformat": 4,
 "nbformat_minor": 2
}
