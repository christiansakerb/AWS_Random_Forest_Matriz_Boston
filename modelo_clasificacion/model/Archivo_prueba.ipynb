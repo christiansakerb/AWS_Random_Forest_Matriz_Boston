{
 "cells": [
  {
   "cell_type": "code",
   "execution_count": 9,
   "metadata": {},
   "outputs": [
    {
     "name": "stdout",
     "output_type": "stream",
     "text": [
      "c:\\Users\\csake\\OneDrive\\Documentos\\Maestria Clases\\S3 C2 Despliegue de Soluciones Analíticas\\Proyecto\\modelo_clasificacion\\model\\processing\n",
      "['c:\\\\Users\\\\csake\\\\OneDrive\\\\Documentos\\\\Maestria Clases\\\\S3 C2 Despliegue de Soluciones Analíticas\\\\Proyecto\\\\modelo_clasificacion\\\\model\\\\processing', 'c:\\\\Users\\\\csake\\\\anaconda3\\\\python310.zip', 'c:\\\\Users\\\\csake\\\\anaconda3\\\\DLLs', 'c:\\\\Users\\\\csake\\\\anaconda3\\\\lib', 'c:\\\\Users\\\\csake\\\\anaconda3', '', 'c:\\\\Users\\\\csake\\\\anaconda3\\\\lib\\\\site-packages', 'c:\\\\Users\\\\csake\\\\anaconda3\\\\lib\\\\site-packages\\\\win32', 'c:\\\\Users\\\\csake\\\\anaconda3\\\\lib\\\\site-packages\\\\win32\\\\lib', 'c:\\\\Users\\\\csake\\\\anaconda3\\\\lib\\\\site-packages\\\\Pythonwin']\n"
     ]
    }
   ],
   "source": [
    "import os\n",
    "print(os.getcwd())\n",
    "\n",
    "import sys\n",
    "print(sys.path)"
   ]
  },
  {
   "cell_type": "code",
   "execution_count": 7,
   "metadata": {},
   "outputs": [
    {
     "ename": "ModuleNotFoundError",
     "evalue": "No module named 'model'",
     "output_type": "error",
     "traceback": [
      "\u001b[1;31m---------------------------------------------------------------------------\u001b[0m",
      "\u001b[1;31mModuleNotFoundError\u001b[0m                       Traceback (most recent call last)",
      "\u001b[1;32mc:\\Users\\csake\\OneDrive\\Documentos\\Maestria Clases\\S3 C2 Despliegue de Soluciones Analíticas\\Proyecto\\modelo_clasificacion\\model\\processing\\Archivo_prueba.ipynb Cell 1\u001b[0m line \u001b[0;36m1\n\u001b[1;32m----> <a href='vscode-notebook-cell:/c%3A/Users/csake/OneDrive/Documentos/Maestria%20Clases/S3%20C2%20Despliegue%20de%20Soluciones%20Anal%C3%ADticas/Proyecto/modelo_clasificacion/model/processing/Archivo_prueba.ipynb#W0sZmlsZQ%3D%3D?line=0'>1</a>\u001b[0m \u001b[39mfrom\u001b[39;00m \u001b[39mmodel\u001b[39;00m \u001b[39mimport\u001b[39;00m __version__ \u001b[39mas\u001b[39;00m _version \u001b[39m#OK \u001b[39;00m\n\u001b[0;32m      <a href='vscode-notebook-cell:/c%3A/Users/csake/OneDrive/Documentos/Maestria%20Clases/S3%20C2%20Despliegue%20de%20Soluciones%20Anal%C3%ADticas/Proyecto/modelo_clasificacion/model/processing/Archivo_prueba.ipynb#W0sZmlsZQ%3D%3D?line=1'>2</a>\u001b[0m \u001b[39mfrom\u001b[39;00m \u001b[39mmodel\u001b[39;00m\u001b[39m.\u001b[39;00m\u001b[39mconfig\u001b[39;00m\u001b[39m.\u001b[39;00m\u001b[39mcore\u001b[39;00m \u001b[39mimport\u001b[39;00m config\n",
      "\u001b[1;31mModuleNotFoundError\u001b[0m: No module named 'model'"
     ]
    }
   ],
   "source": [
    "from model import __version__ as _version #OK \n",
    "from model.config.core import config\n"
   ]
  }
 ],
 "metadata": {
  "kernelspec": {
   "display_name": "base",
   "language": "python",
   "name": "python3"
  },
  "language_info": {
   "codemirror_mode": {
    "name": "ipython",
    "version": 3
   },
   "file_extension": ".py",
   "mimetype": "text/x-python",
   "name": "python",
   "nbconvert_exporter": "python",
   "pygments_lexer": "ipython3",
   "version": "3.10.9"
  }
 },
 "nbformat": 4,
 "nbformat_minor": 2
}
